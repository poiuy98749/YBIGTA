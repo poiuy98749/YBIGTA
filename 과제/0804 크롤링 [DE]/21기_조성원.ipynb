{
 "cells": [
  {
   "cell_type": "code",
   "execution_count": 1,
   "metadata": {},
   "outputs": [],
   "source": [
    "import selenium\n",
    "import time\n",
    "from selenium import webdriver\n",
    "from selenium.webdriver.common.by import By\n",
    "from selenium.webdriver.support.ui import Select"
   ]
  },
  {
   "cell_type": "code",
   "execution_count": 5,
   "metadata": {},
   "outputs": [],
   "source": [
    "def GetMovieList(dv):\n",
    "    # 현재 페이지에서 각각의 영화 링크들로 이루어진 리스트를 반환합니다.\n",
    "    path = \"//*[@id='old_content']/table/tbody/tr[2]/td[2]/div/a\"\n",
    "    path_movie_list = \"//*[@id='old_content']/table/tbody/tr\"\n",
    "    movie_list = dv.find_elements(By.XPATH, path_movie_list)\n",
    "    # print(movie_list)\n",
    "    movie_links = []\n",
    "    \n",
    "    for i in range(1, 11):\n",
    "        href = movie_list[i].find_elements(By.XPATH, \"./td\")[1].find_element(By.XPATH, \"./div/a\").get_attribute(\"href\")\n",
    "        movie_links.append(href)\n",
    "\n",
    "    return movie_links"
   ]
  },
  {
   "cell_type": "code",
   "execution_count": 7,
   "metadata": {},
   "outputs": [],
   "source": [
    "def ParseMovie(dv):\n",
    "    # 현재 페이지에서 영화와 관련된 모든 정보들을 가져온 뒤 리스트 형태로 반환합니다.\n",
    "    \n",
    "    # 제목\n",
    "    title = dv.find_element(By.CSS_SELECTOR, \"#content > div.article > div.mv_info_area > div.mv_info > h3 > a:nth-child(1)\").text\n",
    "\n",
    "    # 관람객 평점\n",
    "    score0 = dv.find_elements(By.CSS_SELECTOR, \"#actualPointPersentBasic > div > span > span\")\n",
    "    if score0:\n",
    "        score0 = score0[0].text\n",
    "    else:\n",
    "        score0 = None\n",
    "\n",
    "    # 개요, 감독 등\n",
    "    info_list = dv.find_element(By.CSS_SELECTOR, \"#content > div.article > div.mv_info_area > div.mv_info > dl > dd:nth-child(2) > p\").find_elements(By.XPATH, \"./span\")\n",
    "\n",
    "    # 장르\n",
    "    if len(info_list) >= 1:\n",
    "        genres = info_list[0].find_elements(By.XPATH, \"./a\")\n",
    "        genres = ', '.join([x.text for x in genres])\n",
    "    else:\n",
    "        genres = None\n",
    "\n",
    "    # 국가\n",
    "    if len(info_list) >= 2:    \n",
    "        region = info_list[1].find_element(By.XPATH, \"./a\").text\n",
    "    else:\n",
    "        region = None\n",
    "\n",
    "    # 상영 시간\n",
    "    if len(info_list) >= 3:    \n",
    "        running_time = info_list[2].text\n",
    "    else:\n",
    "        running_time = None\n",
    "\n",
    "    # 개봉 날짜\n",
    "    if len(info_list) >= 4:    \n",
    "        openings = info_list[3].find_elements(By.XPATH, \"./a\")\n",
    "        opening = ''.join([x.text for x in openings]) + \" 개봉\"\n",
    "    else:\n",
    "        opening = None\n",
    "\n",
    "    # 감독\n",
    "    director = dv.find_element(By.CSS_SELECTOR, \"#content > div.article > div.mv_info_area > div.mv_info > dl > dd:nth-child(4) > p > a\").text\n",
    "\n",
    "    # 시청가능연령\n",
    "    age = dv.find_elements(By.CSS_SELECTOR, \"#content > div.article > div.mv_info_area > div.mv_info > dl > dd:nth-child(8) > p > a\")\n",
    "    if age:\n",
    "        age = age[0].text\n",
    "    else:\n",
    "        age = None\n",
    "    \n",
    "    # 누적 관람객\n",
    "    audiences = dv.find_elements(By.CSS_SELECTOR, \"#content > div.article > div.mv_info_area > div.mv_info > dl > dd:nth-child(10) > div > p\")\n",
    "    if audiences:\n",
    "        audiences = audiences[0].text\n",
    "    else:\n",
    "        audiences = None\n",
    "    \n",
    "    result_list = []\n",
    "    for elem in (title, score0, genres, region, running_time, opening, director, age, audiences):\n",
    "        if elem is not None and elem != '':\n",
    "            result_list.append(elem)\n",
    "    \n",
    "    return result_list"
   ]
  },
  {
   "cell_type": "code",
   "execution_count": 8,
   "metadata": {},
   "outputs": [
    {
     "name": "stdout",
     "output_type": "stream",
     "text": [
      "['비상선언', '관람객 평점 6.66점', '드라마', '한국', '140분', '2022.08.03 개봉', '한재림', '12세 관람가', '1,495,336명(08.08 기준)']\n",
      "['한산: 용의 출현', '관람객 평점 8.52점', '액션, 드라마', '한국', '129분', '2022.07.27 개봉', '김한민', '12세 관람가', '4,760,152명(08.08 기준)']\n",
      "['외계+인 1부', '관람객 평점 6.89점', '액션, 판타지, SF', '한국', '142분', '2022.07.20 개봉', '최동훈', '12세 관람가', '1,501,779명(08.08 기준)']\n",
      "['탑건: 매버릭', '관람객 평점 9.59점', '액션', '미국', '130분', '2022.06.22 개봉', '조셉 코신스키', '12세 관람가', '7,477,721명(08.08 기준)']\n",
      "['헤어질 결심', '관람객 평점 8.93점', '멜로/로맨스, 드라마, 서스펜스', '한국', '138분', '2022.06.29 개봉', '박찬욱', '15세 관람가', '1,783,308명(08.08 기준)']\n",
      "['헌트', '관람객 평점 8.61점', '액션, 드라마', '한국', '125분', '2022.08.10 개봉', '이정재', '15세 관람가']\n",
      "['카터', '액션, 모험', '한국', '정병길']\n",
      "['프레이', '액션, 스릴러, 드라마, 공포, SF', '미국', '99분', '댄 트라첸버그', '청소년 관람불가']\n",
      "['미니언즈2', '관람객 평점 7.86점', '애니메이션, 모험, 코미디', '미국', '87분', '2022.07.20 개봉', '카일 발다', '전체 관람가', '1,995,389명(08.08 기준)']\n",
      "['토르: 러브 앤 썬더', '관람객 평점 6.73점', '액션, 모험, 판타지', '미국', '119분', '2022.07.06 개봉', '타이카 와이티티', '12세 관람가', '2,714,787명(08.08 기준)']\n"
     ]
    }
   ],
   "source": [
    "driver = webdriver.Chrome()\n",
    "url = \"https://movie.naver.com/movie/sdb/rank/rmovie.naver\"\n",
    "driver.get(url)\n",
    "\n",
    "movie_links = GetMovieList(driver)\n",
    "\n",
    "for link in movie_links:\n",
    "    driver.get(link)\n",
    "    print(ParseMovie(driver))\n",
    "\n",
    "# time.sleep(1)"
   ]
  }
 ],
 "metadata": {
  "kernelspec": {
   "display_name": "Python 3.9.12 ('base')",
   "language": "python",
   "name": "python3"
  },
  "language_info": {
   "codemirror_mode": {
    "name": "ipython",
    "version": 3
   },
   "file_extension": ".py",
   "mimetype": "text/x-python",
   "name": "python",
   "nbconvert_exporter": "python",
   "pygments_lexer": "ipython3",
   "version": "3.9.12"
  },
  "orig_nbformat": 4,
  "vscode": {
   "interpreter": {
    "hash": "5a356e9517e14dc2ad259a2123438b15b3972e1e2b3dbfde245c14a47e88b3a8"
   }
  }
 },
 "nbformat": 4,
 "nbformat_minor": 2
}
